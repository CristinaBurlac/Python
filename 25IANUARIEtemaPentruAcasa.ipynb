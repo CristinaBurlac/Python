{
 "cells": [
  {
   "cell_type": "code",
   "execution_count": 6,
   "id": "e40f90c1",
   "metadata": {},
   "outputs": [],
   "source": [
    "class Mammal:\n",
    "    def ____init____(self,dog,cat,GermanShepherd,poodle):\n",
    "        self.dog = color\n",
    "        self.cat = color\n",
    "        self.GermanShepherd=color\n",
    "        self.poodle=color"
   ]
  },
  {
   "cell_type": "code",
   "execution_count": 9,
   "id": "998653cb",
   "metadata": {},
   "outputs": [],
   "source": [
    "class Mammal:\n",
    "    def set_dog(self,dog):\n",
    "     self.dog=dog\n",
    "        \n",
    "    def set_cat(self,cat):\n",
    "     self.cat=cat\n",
    "        \n",
    "    def set_GermanShepherd(self,GermanShepherd):  \n",
    "     self.GermanShepherd=GermanShepherd\n",
    "    \n",
    "    def set_poodle(self,poodle):  \n",
    "     self.poodle=poodle\n",
    "    \n",
    "    def get(self,dog,cat,GermanShepherd,poodle):\n",
    "      self.set_dog(dog)\n",
    "      \n",
    "      self.set_cat(cat)\n",
    "       \n",
    "      self.set_GermanShepherd(GermanShepherd)\n",
    "      self.set_poodle=(poodle)\n",
    "  \n",
    "    "
   ]
  },
  {
   "cell_type": "code",
   "execution_count": 13,
   "id": "31f5c388",
   "metadata": {},
   "outputs": [],
   "source": [
    "class Mammal:\n",
    "    def get_dog(self):\n",
    "      return self._dog\n",
    "        \n",
    "    def get_cat(self):\n",
    "     return self._cat\n",
    "        \n",
    "    def get_GermanShepherd(self):  \n",
    "     return self._GermanShepherd\n",
    "    \n",
    "    def get_poodle(self):  \n",
    "     return self._poodle\n",
    "    \n",
    "    def get(self):\n",
    "      return self._dog(dog)\n",
    "      \n",
    "      "
   ]
  },
  {
   "cell_type": "code",
   "execution_count": 16,
   "id": "4444a06d",
   "metadata": {},
   "outputs": [],
   "source": [
    "class Mammal:\n",
    "    def ____init____(self,dog,cat,GermanShepherd,poodle):\n",
    "        self.dog = dog\n",
    "        self.cat = cat\n",
    "        self.GermanShepherd=GermanShepherd\n",
    "        self.poodle=poodle\n",
    "        \n",
    "        \n",
    "    def get_dog(self):\n",
    "      return self._dog\n",
    "        \n",
    "    def get_cat(self):\n",
    "     return self._cat\n",
    "        \n",
    "    def get_GermanShepherd(self):  \n",
    "     return self._GermanShepherd\n",
    "    \n",
    "    def get_poodle(self):  \n",
    "     return self._poodle\n",
    "    \n",
    "    def get(self):\n",
    "      return self._dog(dog)   "
   ]
  },
  {
   "cell_type": "code",
   "execution_count": null,
   "id": "e69a4bb3",
   "metadata": {},
   "outputs": [],
   "source": []
  }
 ],
 "metadata": {
  "kernelspec": {
   "display_name": "Python 3",
   "language": "python",
   "name": "python3"
  },
  "language_info": {
   "codemirror_mode": {
    "name": "ipython",
    "version": 3
   },
   "file_extension": ".py",
   "mimetype": "text/x-python",
   "name": "python",
   "nbconvert_exporter": "python",
   "pygments_lexer": "ipython3",
   "version": "3.7.9"
  }
 },
 "nbformat": 4,
 "nbformat_minor": 5
}
