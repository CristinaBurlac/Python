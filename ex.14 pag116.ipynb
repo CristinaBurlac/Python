{
 "cells": [
  {
   "cell_type": "code",
   "execution_count": 7,
   "id": "dbb6d9da",
   "metadata": {},
   "outputs": [],
   "source": [
    "f = open(\"demofile2.txt\", \"a\")"
   ]
  },
  {
   "cell_type": "code",
   "execution_count": 9,
   "id": "9a84188e",
   "metadata": {},
   "outputs": [
    {
     "data": {
      "text/plain": [
       "30"
      ]
     },
     "execution_count": 9,
     "metadata": {},
     "output_type": "execute_result"
    }
   ],
   "source": [
    "f.write(\"Now the file has more content!\")"
   ]
  },
  {
   "cell_type": "code",
   "execution_count": 10,
   "id": "ab6e1e86",
   "metadata": {},
   "outputs": [],
   "source": [
    "f = open(\"demofile2.txt\", \"r\")"
   ]
  },
  {
   "cell_type": "code",
   "execution_count": 11,
   "id": "9722da43",
   "metadata": {},
   "outputs": [
    {
     "name": "stdout",
     "output_type": "stream",
     "text": [
      "Now the file has more content!\n"
     ]
    }
   ],
   "source": [
    "print(f.read())"
   ]
  },
  {
   "cell_type": "code",
   "execution_count": 18,
   "id": "cb68976e",
   "metadata": {},
   "outputs": [],
   "source": [
    "f = open(\"data.txt\", \"a\")"
   ]
  },
  {
   "cell_type": "code",
   "execution_count": 19,
   "id": "27622bcc",
   "metadata": {},
   "outputs": [
    {
     "data": {
      "text/plain": [
       "30"
      ]
     },
     "execution_count": 19,
     "metadata": {},
     "output_type": "execute_result"
    }
   ],
   "source": [
    "f.write(\"Now the file has more content!\")"
   ]
  },
  {
   "cell_type": "code",
   "execution_count": 22,
   "id": "c562bc69",
   "metadata": {},
   "outputs": [],
   "source": [
    "file = open(\"data.txt\", \"r\")"
   ]
  },
  {
   "cell_type": "code",
   "execution_count": 26,
   "id": "35265b62",
   "metadata": {},
   "outputs": [],
   "source": [
    "number_of_lines = 0\n",
    "number_of_words = 0\n",
    "number_of_characters = 0\n",
    "for line in file:\n",
    "  line = line.strip(\"\\n\")"
   ]
  },
  {
   "cell_type": "code",
   "execution_count": 28,
   "id": "4f395b21",
   "metadata": {},
   "outputs": [],
   "source": [
    "words = line.split()\n",
    "number_of_lines += 1\n",
    "number_of_words += len(words)\n",
    "number_of_characters += len(line)"
   ]
  },
  {
   "cell_type": "code",
   "execution_count": 29,
   "id": "c745658e",
   "metadata": {},
   "outputs": [
    {
     "name": "stdout",
     "output_type": "stream",
     "text": [
      "lines: 1 words: 1 characters: 7\n"
     ]
    }
   ],
   "source": [
    "print(\"lines:\", number_of_lines, \"words:\", number_of_words, \"characters:\", number_of_characters)"
   ]
  },
  {
   "cell_type": "code",
   "execution_count": null,
   "id": "da3e20c9",
   "metadata": {},
   "outputs": [],
   "source": []
  }
 ],
 "metadata": {
  "kernelspec": {
   "display_name": "Python 3",
   "language": "python",
   "name": "python3"
  },
  "language_info": {
   "codemirror_mode": {
    "name": "ipython",
    "version": 3
   },
   "file_extension": ".py",
   "mimetype": "text/x-python",
   "name": "python",
   "nbconvert_exporter": "python",
   "pygments_lexer": "ipython3",
   "version": "3.7.9"
  }
 },
 "nbformat": 4,
 "nbformat_minor": 5
}
