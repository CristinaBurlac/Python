{
 "cells": [
  {
   "cell_type": "code",
   "execution_count": 1,
   "id": "5d6561dc",
   "metadata": {},
   "outputs": [],
   "source": [
    "import numpy as np\n",
    "import pandas as pd\n",
    "import matplotlib.pyplot as plt\n",
    "import seaborn as sns"
   ]
  },
  {
   "cell_type": "code",
   "execution_count": 2,
   "id": "f977733f",
   "metadata": {},
   "outputs": [
    {
     "data": {
      "text/html": [
       "<div>\n",
       "<style scoped>\n",
       "    .dataframe tbody tr th:only-of-type {\n",
       "        vertical-align: middle;\n",
       "    }\n",
       "\n",
       "    .dataframe tbody tr th {\n",
       "        vertical-align: top;\n",
       "    }\n",
       "\n",
       "    .dataframe thead th {\n",
       "        text-align: right;\n",
       "    }\n",
       "</style>\n",
       "<table border=\"1\" class=\"dataframe\">\n",
       "  <thead>\n",
       "    <tr style=\"text-align: right;\">\n",
       "      <th></th>\n",
       "      <th>Channel</th>\n",
       "      <th>Region</th>\n",
       "      <th>Fresh</th>\n",
       "      <th>Milk</th>\n",
       "      <th>Grocery</th>\n",
       "      <th>Frozen</th>\n",
       "      <th>Detergents_Paper</th>\n",
       "      <th>Delicassen</th>\n",
       "    </tr>\n",
       "  </thead>\n",
       "  <tbody>\n",
       "    <tr>\n",
       "      <th>0</th>\n",
       "      <td>2</td>\n",
       "      <td>3</td>\n",
       "      <td>12669</td>\n",
       "      <td>9656</td>\n",
       "      <td>7561</td>\n",
       "      <td>214</td>\n",
       "      <td>2674</td>\n",
       "      <td>1338</td>\n",
       "    </tr>\n",
       "    <tr>\n",
       "      <th>1</th>\n",
       "      <td>2</td>\n",
       "      <td>3</td>\n",
       "      <td>7057</td>\n",
       "      <td>9810</td>\n",
       "      <td>9568</td>\n",
       "      <td>1762</td>\n",
       "      <td>3293</td>\n",
       "      <td>1776</td>\n",
       "    </tr>\n",
       "    <tr>\n",
       "      <th>2</th>\n",
       "      <td>2</td>\n",
       "      <td>3</td>\n",
       "      <td>6353</td>\n",
       "      <td>8808</td>\n",
       "      <td>7684</td>\n",
       "      <td>2405</td>\n",
       "      <td>3516</td>\n",
       "      <td>7844</td>\n",
       "    </tr>\n",
       "    <tr>\n",
       "      <th>3</th>\n",
       "      <td>1</td>\n",
       "      <td>3</td>\n",
       "      <td>13265</td>\n",
       "      <td>1196</td>\n",
       "      <td>4221</td>\n",
       "      <td>6404</td>\n",
       "      <td>507</td>\n",
       "      <td>1788</td>\n",
       "    </tr>\n",
       "    <tr>\n",
       "      <th>4</th>\n",
       "      <td>2</td>\n",
       "      <td>3</td>\n",
       "      <td>22615</td>\n",
       "      <td>5410</td>\n",
       "      <td>7198</td>\n",
       "      <td>3915</td>\n",
       "      <td>1777</td>\n",
       "      <td>5185</td>\n",
       "    </tr>\n",
       "    <tr>\n",
       "      <th>...</th>\n",
       "      <td>...</td>\n",
       "      <td>...</td>\n",
       "      <td>...</td>\n",
       "      <td>...</td>\n",
       "      <td>...</td>\n",
       "      <td>...</td>\n",
       "      <td>...</td>\n",
       "      <td>...</td>\n",
       "    </tr>\n",
       "    <tr>\n",
       "      <th>435</th>\n",
       "      <td>1</td>\n",
       "      <td>3</td>\n",
       "      <td>29703</td>\n",
       "      <td>12051</td>\n",
       "      <td>16027</td>\n",
       "      <td>13135</td>\n",
       "      <td>182</td>\n",
       "      <td>2204</td>\n",
       "    </tr>\n",
       "    <tr>\n",
       "      <th>436</th>\n",
       "      <td>1</td>\n",
       "      <td>3</td>\n",
       "      <td>39228</td>\n",
       "      <td>1431</td>\n",
       "      <td>764</td>\n",
       "      <td>4510</td>\n",
       "      <td>93</td>\n",
       "      <td>2346</td>\n",
       "    </tr>\n",
       "    <tr>\n",
       "      <th>437</th>\n",
       "      <td>2</td>\n",
       "      <td>3</td>\n",
       "      <td>14531</td>\n",
       "      <td>15488</td>\n",
       "      <td>30243</td>\n",
       "      <td>437</td>\n",
       "      <td>14841</td>\n",
       "      <td>1867</td>\n",
       "    </tr>\n",
       "    <tr>\n",
       "      <th>438</th>\n",
       "      <td>1</td>\n",
       "      <td>3</td>\n",
       "      <td>10290</td>\n",
       "      <td>1981</td>\n",
       "      <td>2232</td>\n",
       "      <td>1038</td>\n",
       "      <td>168</td>\n",
       "      <td>2125</td>\n",
       "    </tr>\n",
       "    <tr>\n",
       "      <th>439</th>\n",
       "      <td>1</td>\n",
       "      <td>3</td>\n",
       "      <td>2787</td>\n",
       "      <td>1698</td>\n",
       "      <td>2510</td>\n",
       "      <td>65</td>\n",
       "      <td>477</td>\n",
       "      <td>52</td>\n",
       "    </tr>\n",
       "  </tbody>\n",
       "</table>\n",
       "<p>440 rows × 8 columns</p>\n",
       "</div>"
      ],
      "text/plain": [
       "     Channel  Region  Fresh   Milk  Grocery  Frozen  Detergents_Paper  \\\n",
       "0          2       3  12669   9656     7561     214              2674   \n",
       "1          2       3   7057   9810     9568    1762              3293   \n",
       "2          2       3   6353   8808     7684    2405              3516   \n",
       "3          1       3  13265   1196     4221    6404               507   \n",
       "4          2       3  22615   5410     7198    3915              1777   \n",
       "..       ...     ...    ...    ...      ...     ...               ...   \n",
       "435        1       3  29703  12051    16027   13135               182   \n",
       "436        1       3  39228   1431      764    4510                93   \n",
       "437        2       3  14531  15488    30243     437             14841   \n",
       "438        1       3  10290   1981     2232    1038               168   \n",
       "439        1       3   2787   1698     2510      65               477   \n",
       "\n",
       "     Delicassen  \n",
       "0          1338  \n",
       "1          1776  \n",
       "2          7844  \n",
       "3          1788  \n",
       "4          5185  \n",
       "..          ...  \n",
       "435        2204  \n",
       "436        2346  \n",
       "437        1867  \n",
       "438        2125  \n",
       "439          52  \n",
       "\n",
       "[440 rows x 8 columns]"
      ]
     },
     "execution_count": 2,
     "metadata": {},
     "output_type": "execute_result"
    }
   ],
   "source": [
    "df=pd.read_csv('Wholesale customers data.csv')\n",
    "df"
   ]
  },
  {
   "cell_type": "code",
   "execution_count": 3,
   "id": "a40b1c4a",
   "metadata": {},
   "outputs": [],
   "source": [
    "x=df.values"
   ]
  },
  {
   "cell_type": "code",
   "execution_count": 4,
   "id": "2c04862e",
   "metadata": {},
   "outputs": [
    {
     "data": {
      "text/plain": [
       "array([[    2,     3, 12669, ...,   214,  2674,  1338],\n",
       "       [    2,     3,  7057, ...,  1762,  3293,  1776],\n",
       "       [    2,     3,  6353, ...,  2405,  3516,  7844],\n",
       "       ...,\n",
       "       [    2,     3, 14531, ...,   437, 14841,  1867],\n",
       "       [    1,     3, 10290, ...,  1038,   168,  2125],\n",
       "       [    1,     3,  2787, ...,    65,   477,    52]], dtype=int64)"
      ]
     },
     "execution_count": 4,
     "metadata": {},
     "output_type": "execute_result"
    }
   ],
   "source": [
    "x"
   ]
  },
  {
   "cell_type": "code",
   "execution_count": 5,
   "id": "242b2032",
   "metadata": {},
   "outputs": [],
   "source": [
    "from sklearn.metrics import silhouette_score\n",
    "from sklearn.mixture import GaussianMixture"
   ]
  },
  {
   "cell_type": "code",
   "execution_count": 6,
   "id": "2dff7562",
   "metadata": {},
   "outputs": [],
   "source": [
    "scores=[]\n",
    "for k in range(2,11):\n",
    "    gmm=GaussianMixture(n_components=k)\n",
    "    gmm.fit(x) #antrenarea algoritmului\n",
    "    y_pred=gmm.predict(x)\n",
    "    scores.append(silhouette_score(x,y_pred))"
   ]
  },
  {
   "cell_type": "code",
   "execution_count": 7,
   "id": "9e7c1174",
   "metadata": {},
   "outputs": [
    {
     "data": {
      "text/plain": [
       "[0.27624713050297744,\n",
       " -0.06732057916843202,\n",
       " -0.034621196113609184,\n",
       " 0.1845523565174943,\n",
       " 0.1777832627934243,\n",
       " 0.012723759630621924,\n",
       " 0.020826509092419513,\n",
       " -0.014938331443495118,\n",
       " -0.05852392938326291]"
      ]
     },
     "execution_count": 7,
     "metadata": {},
     "output_type": "execute_result"
    }
   ],
   "source": [
    "scores"
   ]
  },
  {
   "cell_type": "code",
   "execution_count": 8,
   "id": "cff6fc7e",
   "metadata": {},
   "outputs": [
    {
     "data": {
      "text/plain": [
       "[<matplotlib.lines.Line2D at 0x187857f7c48>]"
      ]
     },
     "execution_count": 8,
     "metadata": {},
     "output_type": "execute_result"
    },
    {
     "data": {
      "image/png": "[encoded data removed]",
      "text/plain": [
       "<Figure size 432x288 with 1 Axes>"
      ]
     },
     "metadata": {
      "needs_background": "light"
     },
     "output_type": "display_data"
    }
   ],
   "source": [
    "plt.plot(range(2,11), scores)"
   ]
  },
  {
   "cell_type": "code",
   "execution_count": 16,
   "id": "f5eded9c",
   "metadata": {},
   "outputs": [],
   "source": [
    "gmm=GaussianMixture(n_components=5)"
   ]
  },
  {
   "cell_type": "code",
   "execution_count": 17,
   "id": "00cc81e0",
   "metadata": {},
   "outputs": [
    {
     "data": {
      "text/plain": [
       "GaussianMixture(n_components=5)"
      ]
     },
     "execution_count": 17,
     "metadata": {},
     "output_type": "execute_result"
    }
   ],
   "source": [
    "gmm.fit(x)"
   ]
  },
  {
   "cell_type": "code",
   "execution_count": 18,
   "id": "18da3a5f",
   "metadata": {},
   "outputs": [],
   "source": [
    "y_pred=gmm.predict(x)"
   ]
  },
  {
   "cell_type": "code",
   "execution_count": 19,
   "id": "2ff2216c",
   "metadata": {},
   "outputs": [
    {
     "data": {
      "text/plain": [
       "array([3, 3, 3, 1, 3, 3, 3, 3, 1, 3, 3, 3, 3, 3, 3, 1, 3, 0, 3, 1, 3, 1,\n",
       "       0, 3, 3, 3, 1, 1, 3, 0, 0, 1, 1, 0, 1, 3, 0, 3, 3, 4, 0, 1, 3, 3,\n",
       "       3, 3, 3, 3, 3, 3, 1, 1, 3, 3, 2, 1, 3, 3, 1, 1, 3, 3, 3, 3, 1, 3,\n",
       "       1, 3, 0, 1, 0, 0, 0, 3, 3, 1, 1, 3, 1, 1, 1, 3, 3, 1, 3, 3, 3, 0,\n",
       "       0, 0, 1, 1, 3, 0, 3, 1, 3, 1, 1, 1, 3, 3, 3, 4, 1, 1, 3, 3, 3, 3,\n",
       "       1, 3, 0, 1, 1, 1, 1, 1, 1, 1, 1, 1, 1, 3, 1, 4, 1, 3, 0, 0, 1, 1,\n",
       "       1, 1, 1, 1, 1, 0, 0, 1, 1, 0, 0, 1, 1, 3, 1, 1, 1, 1, 1, 1, 1, 0,\n",
       "       1, 3, 3, 1, 3, 3, 3, 1, 1, 3, 3, 3, 3, 1, 1, 1, 3, 3, 1, 3, 1, 3,\n",
       "       0, 0, 0, 1, 1, 4, 1, 0, 1, 0, 1, 1, 3, 3, 0, 1, 1, 3, 1, 1, 0, 3,\n",
       "       1, 1, 3, 3, 0, 1, 1, 3, 1, 3, 1, 3, 1, 3, 1, 1, 3, 1, 3, 2, 3, 1,\n",
       "       2, 1, 1, 3, 1, 1, 3, 1, 1, 1, 3, 0, 1, 1, 1, 1, 1, 1, 2, 0, 0, 2,\n",
       "       1, 1, 1, 3, 1, 2, 1, 1, 1, 3, 1, 0, 0, 1, 1, 1, 4, 4, 1, 1, 2, 1,\n",
       "       3, 0, 3, 0, 3, 1, 1, 1, 0, 0, 1, 1, 0, 0, 1, 3, 1, 3, 0, 0, 4, 0,\n",
       "       1, 1, 1, 0, 1, 1, 1, 3, 1, 3, 1, 3, 3, 1, 3, 3, 3, 3, 3, 3, 3, 1,\n",
       "       1, 3, 0, 0, 3, 1, 1, 3, 1, 1, 1, 3, 1, 1, 1, 0, 1, 0, 1, 1, 1, 1,\n",
       "       1, 3, 1, 3, 2, 3, 1, 1, 0, 0, 3, 3, 1, 3, 1, 1, 3, 3, 1, 3, 1, 3,\n",
       "       1, 3, 0, 1, 1, 3, 0, 1, 1, 1, 1, 1, 1, 3, 1, 1, 1, 1, 3, 1, 0, 3,\n",
       "       1, 1, 3, 0, 1, 3, 1, 0, 0, 1, 0, 1, 1, 1, 1, 1, 1, 1, 1, 0, 1, 1,\n",
       "       3, 1, 1, 1, 1, 0, 0, 0, 1, 1, 0, 3, 3, 0, 1, 0, 1, 0, 1, 3, 3, 1,\n",
       "       3, 1, 1, 3, 1, 3, 3, 0, 1, 0, 1, 1, 0, 0, 1, 1, 1, 0, 0, 3, 1, 1],\n",
       "      dtype=int64)"
      ]
     },
     "execution_count": 19,
     "metadata": {},
     "output_type": "execute_result"
    }
   ],
   "source": [
    "y_pred #fiecare numar reprezinta un oarecare claster"
   ]
  },
  {
   "cell_type": "code",
   "execution_count": 20,
   "id": "c4eb282f",
   "metadata": {},
   "outputs": [
    {
     "data": {
      "text/plain": [
       "array([[1.00000000e+00, 2.64340219e+00, 2.03314115e+04, 6.41484370e+03,\n",
       "        5.80381818e+03, 7.36313453e+03, 6.87167283e+02, 2.99584723e+03],\n",
       "       [1.00000000e+00, 2.50683703e+00, 9.08358041e+03, 2.36475582e+03,\n",
       "        3.25953164e+03, 2.29308653e+03, 8.26025567e+02, 8.27971632e+02],\n",
       "       [1.12507485e+00, 1.37512044e+00, 1.82601271e+04, 1.09321623e+03,\n",
       "        1.66821048e+03, 3.08555958e+03, 2.09934632e+02, 1.16309722e+03],\n",
       "       [2.00000000e+00, 2.61702128e+00, 8.84816312e+03, 1.07859220e+04,\n",
       "        1.64191631e+04, 1.58235461e+03, 7.31870922e+03, 1.74114894e+03],\n",
       "       [1.00000000e+00, 2.42857059e+00, 6.84097427e+04, 7.29886997e+03,\n",
       "        8.16101088e+03, 1.13484289e+04, 1.40943047e+03, 3.06100096e+03]])"
      ]
     },
     "execution_count": 20,
     "metadata": {},
     "output_type": "execute_result"
    }
   ],
   "source": [
    "gmm.means_ #valorile medii"
   ]
  },
  {
   "cell_type": "code",
   "execution_count": 21,
   "id": "04bd91e9",
   "metadata": {},
   "outputs": [],
   "source": [
    "cluster_table=pd.DataFrame(gmm.means_,columns=df.columns)"
   ]
  },
  {
   "cell_type": "code",
   "execution_count": 22,
   "id": "73a21043",
   "metadata": {},
   "outputs": [
    {
     "data": {
      "text/html": [
       "<div>\n",
       "<style scoped>\n",
       "    .dataframe tbody tr th:only-of-type {\n",
       "        vertical-align: middle;\n",
       "    }\n",
       "\n",
       "    .dataframe tbody tr th {\n",
       "        vertical-align: top;\n",
       "    }\n",
       "\n",
       "    .dataframe thead th {\n",
       "        text-align: right;\n",
       "    }\n",
       "</style>\n",
       "<table border=\"1\" class=\"dataframe\">\n",
       "  <thead>\n",
       "    <tr style=\"text-align: right;\">\n",
       "      <th></th>\n",
       "      <th>Channel</th>\n",
       "      <th>Region</th>\n",
       "      <th>Fresh</th>\n",
       "      <th>Milk</th>\n",
       "      <th>Grocery</th>\n",
       "      <th>Frozen</th>\n",
       "      <th>Detergents_Paper</th>\n",
       "      <th>Delicassen</th>\n",
       "    </tr>\n",
       "  </thead>\n",
       "  <tbody>\n",
       "    <tr>\n",
       "      <th>0</th>\n",
       "      <td>1.000000</td>\n",
       "      <td>2.643402</td>\n",
       "      <td>20331.411527</td>\n",
       "      <td>6414.843702</td>\n",
       "      <td>5803.818175</td>\n",
       "      <td>7363.134534</td>\n",
       "      <td>687.167283</td>\n",
       "      <td>2995.847231</td>\n",
       "    </tr>\n",
       "    <tr>\n",
       "      <th>1</th>\n",
       "      <td>1.000000</td>\n",
       "      <td>2.506837</td>\n",
       "      <td>9083.580415</td>\n",
       "      <td>2364.755818</td>\n",
       "      <td>3259.531645</td>\n",
       "      <td>2293.086529</td>\n",
       "      <td>826.025567</td>\n",
       "      <td>827.971632</td>\n",
       "    </tr>\n",
       "    <tr>\n",
       "      <th>2</th>\n",
       "      <td>1.125075</td>\n",
       "      <td>1.375120</td>\n",
       "      <td>18260.127073</td>\n",
       "      <td>1093.216235</td>\n",
       "      <td>1668.210483</td>\n",
       "      <td>3085.559576</td>\n",
       "      <td>209.934632</td>\n",
       "      <td>1163.097215</td>\n",
       "    </tr>\n",
       "    <tr>\n",
       "      <th>3</th>\n",
       "      <td>2.000000</td>\n",
       "      <td>2.617021</td>\n",
       "      <td>8848.163121</td>\n",
       "      <td>10785.921986</td>\n",
       "      <td>16419.163121</td>\n",
       "      <td>1582.354610</td>\n",
       "      <td>7318.709220</td>\n",
       "      <td>1741.148936</td>\n",
       "    </tr>\n",
       "    <tr>\n",
       "      <th>4</th>\n",
       "      <td>1.000000</td>\n",
       "      <td>2.428571</td>\n",
       "      <td>68409.742693</td>\n",
       "      <td>7298.869973</td>\n",
       "      <td>8161.010884</td>\n",
       "      <td>11348.428878</td>\n",
       "      <td>1409.430470</td>\n",
       "      <td>3061.000963</td>\n",
       "    </tr>\n",
       "  </tbody>\n",
       "</table>\n",
       "</div>"
      ],
      "text/plain": [
       "    Channel    Region         Fresh          Milk       Grocery        Frozen  \\\n",
       "0  1.000000  2.643402  20331.411527   6414.843702   5803.818175   7363.134534   \n",
       "1  1.000000  2.506837   9083.580415   2364.755818   3259.531645   2293.086529   \n",
       "2  1.125075  1.375120  18260.127073   1093.216235   1668.210483   3085.559576   \n",
       "3  2.000000  2.617021   8848.163121  10785.921986  16419.163121   1582.354610   \n",
       "4  1.000000  2.428571  68409.742693   7298.869973   8161.010884  11348.428878   \n",
       "\n",
       "   Detergents_Paper   Delicassen  \n",
       "0        687.167283  2995.847231  \n",
       "1        826.025567   827.971632  \n",
       "2        209.934632  1163.097215  \n",
       "3       7318.709220  1741.148936  \n",
       "4       1409.430470  3061.000963  "
      ]
     },
     "execution_count": 22,
     "metadata": {},
     "output_type": "execute_result"
    }
   ],
   "source": [
    "cluster_table"
   ]
  },
  {
   "cell_type": "code",
   "execution_count": 23,
   "id": "705b22fa",
   "metadata": {},
   "outputs": [
    {
     "data": {
      "text/plain": [
       "Channel                 0.436602\n",
       "Region                  0.532009\n",
       "Fresh               24828.616131\n",
       "Milk                 3912.207232\n",
       "Grocery              5785.738467\n",
       "Frozen               4137.307344\n",
       "Detergents_Paper     2953.929225\n",
       "Delicassen           1030.727505\n",
       "dtype: float64"
      ]
     },
     "execution_count": 23,
     "metadata": {},
     "output_type": "execute_result"
    }
   ],
   "source": [
    "cluster_table.std()"
   ]
  },
  {
   "cell_type": "code",
   "execution_count": 27,
   "id": "2d311886",
   "metadata": {},
   "outputs": [
    {
     "data": {
      "text/html": [
       "<div>\n",
       "<style scoped>\n",
       "    .dataframe tbody tr th:only-of-type {\n",
       "        vertical-align: middle;\n",
       "    }\n",
       "\n",
       "    .dataframe tbody tr th {\n",
       "        vertical-align: top;\n",
       "    }\n",
       "\n",
       "    .dataframe thead th {\n",
       "        text-align: right;\n",
       "    }\n",
       "</style>\n",
       "<table border=\"1\" class=\"dataframe\">\n",
       "  <thead>\n",
       "    <tr style=\"text-align: right;\">\n",
       "      <th></th>\n",
       "      <th>Channel</th>\n",
       "      <th>Region</th>\n",
       "      <th>Fresh</th>\n",
       "      <th>Milk</th>\n",
       "      <th>Grocery</th>\n",
       "      <th>Frozen</th>\n",
       "      <th>Detergents_Paper</th>\n",
       "      <th>Delicassen</th>\n",
       "    </tr>\n",
       "  </thead>\n",
       "  <tbody>\n",
       "    <tr>\n",
       "      <th>0</th>\n",
       "      <td>1.000000</td>\n",
       "      <td>2.643402</td>\n",
       "      <td>20331.411527</td>\n",
       "      <td>6414.843702</td>\n",
       "      <td>5803.818175</td>\n",
       "      <td>7363.134534</td>\n",
       "      <td>687.167283</td>\n",
       "      <td>2995.847231</td>\n",
       "    </tr>\n",
       "    <tr>\n",
       "      <th>1</th>\n",
       "      <td>1.000000</td>\n",
       "      <td>2.506837</td>\n",
       "      <td>9083.580415</td>\n",
       "      <td>2364.755818</td>\n",
       "      <td>3259.531645</td>\n",
       "      <td>2293.086529</td>\n",
       "      <td>826.025567</td>\n",
       "      <td>827.971632</td>\n",
       "    </tr>\n",
       "    <tr>\n",
       "      <th>2</th>\n",
       "      <td>1.125075</td>\n",
       "      <td>1.375120</td>\n",
       "      <td>18260.127073</td>\n",
       "      <td>1093.216235</td>\n",
       "      <td>1668.210483</td>\n",
       "      <td>3085.559576</td>\n",
       "      <td>209.934632</td>\n",
       "      <td>1163.097215</td>\n",
       "    </tr>\n",
       "    <tr>\n",
       "      <th>3</th>\n",
       "      <td>2.000000</td>\n",
       "      <td>2.617021</td>\n",
       "      <td>8848.163121</td>\n",
       "      <td>10785.921986</td>\n",
       "      <td>16419.163121</td>\n",
       "      <td>1582.354610</td>\n",
       "      <td>7318.709220</td>\n",
       "      <td>1741.148936</td>\n",
       "    </tr>\n",
       "    <tr>\n",
       "      <th>4</th>\n",
       "      <td>1.000000</td>\n",
       "      <td>2.428571</td>\n",
       "      <td>68409.742693</td>\n",
       "      <td>7298.869973</td>\n",
       "      <td>8161.010884</td>\n",
       "      <td>11348.428878</td>\n",
       "      <td>1409.430470</td>\n",
       "      <td>3061.000963</td>\n",
       "    </tr>\n",
       "  </tbody>\n",
       "</table>\n",
       "</div>"
      ],
      "text/plain": [
       "    Channel    Region         Fresh          Milk       Grocery        Frozen  \\\n",
       "0  1.000000  2.643402  20331.411527   6414.843702   5803.818175   7363.134534   \n",
       "1  1.000000  2.506837   9083.580415   2364.755818   3259.531645   2293.086529   \n",
       "2  1.125075  1.375120  18260.127073   1093.216235   1668.210483   3085.559576   \n",
       "3  2.000000  2.617021   8848.163121  10785.921986  16419.163121   1582.354610   \n",
       "4  1.000000  2.428571  68409.742693   7298.869973   8161.010884  11348.428878   \n",
       "\n",
       "   Detergents_Paper   Delicassen  \n",
       "0        687.167283  2995.847231  \n",
       "1        826.025567   827.971632  \n",
       "2        209.934632  1163.097215  \n",
       "3       7318.709220  1741.148936  \n",
       "4       1409.430470  3061.000963  "
      ]
     },
     "execution_count": 27,
     "metadata": {},
     "output_type": "execute_result"
    }
   ],
   "source": [
    "cluster_table[['Channel','Region','Fresh','Milk','Grocery','Frozen','Detergents_Paper','Delicassen']]"
   ]
  },
  {
   "cell_type": "code",
   "execution_count": null,
   "id": "96374d2c",
   "metadata": {},
   "outputs": [],
   "source": []
  }
 ],
 "metadata": {
  "kernelspec": {
   "display_name": "Python 3",
   "language": "python",
   "name": "python3"
  },
  "language_info": {
   "codemirror_mode": {
    "name": "ipython",
    "version": 3
   },
   "file_extension": ".py",
   "mimetype": "text/x-python",
   "name": "python",
   "nbconvert_exporter": "python",
   "pygments_lexer": "ipython3",
   "version": "3.7.9"
  }
 },
 "nbformat": 4,
 "nbformat_minor": 5
}
