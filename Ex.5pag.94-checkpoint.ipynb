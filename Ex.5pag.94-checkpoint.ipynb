{
 "cells": [
  {
   "cell_type": "code",
   "execution_count": 4,
   "id": "0b698f38",
   "metadata": {},
   "outputs": [],
   "source": [
    "string=(\"Here is source code of the Python Program to remove the nth index character from a non-empty string. The program output is also shown below.:\")"
   ]
  },
  {
   "cell_type": "code",
   "execution_count": 6,
   "id": "f9231c98",
   "metadata": {},
   "outputs": [
    {
     "name": "stdout",
     "output_type": "stream",
     "text": [
      "The number of vowels: 40\n",
      "\n",
      "The number of consonant: 101\n"
     ]
    }
   ],
   "source": [
    "vowels=0\n",
    "consonants=0\n",
    "for i in string:\n",
    "    if(i == 'a'or i == 'e'or i == 'i'or i == 'o'or i == 'u' or\n",
    "       i == 'A'or i == 'E'or i == 'I'or i == 'O'or i == 'U' ):\n",
    "           vowels=vowels+1;#vowel counter is incremented by 1\n",
    "    else:\n",
    "        consonants=consonants+1;\n",
    "#consonant counter is incremented by 1\n",
    "print(\"The number of vowels:\",vowels)\n",
    "print(\"\\nThe number of consonant:\",consonants)"
   ]
  },
  {
   "cell_type": "code",
   "execution_count": null,
   "id": "dd2bdbb1",
   "metadata": {},
   "outputs": [],
   "source": []
  }
 ],
 "metadata": {
  "kernelspec": {
   "display_name": "Python 3",
   "language": "python",
   "name": "python3"
  },
  "language_info": {
   "codemirror_mode": {
    "name": "ipython",
    "version": 3
   },
   "file_extension": ".py",
   "mimetype": "text/x-python",
   "name": "python",
   "nbconvert_exporter": "python",
   "pygments_lexer": "ipython3",
   "version": "3.7.9"
  }
 },
 "nbformat": 4,
 "nbformat_minor": 5
}
